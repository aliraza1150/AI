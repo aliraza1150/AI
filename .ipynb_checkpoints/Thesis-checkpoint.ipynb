{
 "cells": [
  {
   "cell_type": "code",
   "execution_count": null,
   "id": "fa828168",
   "metadata": {},
   "outputs": [],
   "source": [
    "import numpy as np\n",
    "import pandas as pd"
   ]
  },
  {
   "cell_type": "code",
   "execution_count": null,
   "id": "7199b112",
   "metadata": {},
   "outputs": [],
   "source": [
    "import os\n",
    "\n",
    "data_E = pd.read_csv(\"kz.csv\")\n"
   ]
  },
  {
   "cell_type": "code",
   "execution_count": null,
   "id": "e6e959ee",
   "metadata": {},
   "outputs": [],
   "source": [
    "!pip install plotly"
   ]
  },
  {
   "cell_type": "code",
   "execution_count": null,
   "id": "71bc0031",
   "metadata": {},
   "outputs": [],
   "source": [
    "!pip install -U kaleido"
   ]
  },
  {
   "cell_type": "code",
   "execution_count": null,
   "id": "8cd3b023",
   "metadata": {},
   "outputs": [],
   "source": [
    "import numpy as np\n",
    "import pandas as pd\n",
    "\n",
    "import plotly.express as px\n",
    "import plotly.offline as pyo\n",
    "\n",
    "import matplotlib.pyplot as plt\n",
    "import plotly.io as pio\n",
    "\n",
    "import plotly.graph_objs as go\n",
    "\n",
    "from datetime import date"
   ]
  },
  {
   "cell_type": "code",
   "execution_count": null,
   "id": "fc1f828b",
   "metadata": {},
   "outputs": [],
   "source": [
    "data_E.head(5)"
   ]
  },
  {
   "cell_type": "code",
   "execution_count": null,
   "id": "c02f5063",
   "metadata": {},
   "outputs": [],
   "source": [
    "data_E.dtypes"
   ]
  },
  {
   "cell_type": "code",
   "execution_count": null,
   "id": "f31336cd",
   "metadata": {},
   "outputs": [],
   "source": [
    "data_E.set_index('order_id', inplace=True)"
   ]
  },
  {
   "cell_type": "code",
   "execution_count": null,
   "id": "c2b28326",
   "metadata": {},
   "outputs": [],
   "source": [
    "data_E"
   ]
  },
  {
   "cell_type": "code",
   "execution_count": null,
   "id": "7e0591e4",
   "metadata": {},
   "outputs": [],
   "source": [
    "null_columns = data_E.columns[data_E.isnull().any()]\n",
    "data_E[null_columns].isnull().sum()"
   ]
  },
  {
   "cell_type": "code",
   "execution_count": null,
   "id": "dc3b7ea1",
   "metadata": {},
   "outputs": [],
   "source": [
    "data_E"
   ]
  },
  {
   "cell_type": "code",
   "execution_count": null,
   "id": "e85357ce",
   "metadata": {},
   "outputs": [],
   "source": [
    "n_unique_products = data_E['product_id'].nunique()\n",
    "n_unique_users = data_E['user_id'].nunique()\n",
    "print('Number of unique users: ' + str(n_unique_users) +'. Number of unique products is: ' + str(n_unique_products))"
   ]
  },
  {
   "cell_type": "code",
   "execution_count": null,
   "id": "78e93027",
   "metadata": {},
   "outputs": [],
   "source": []
  },
  {
   "cell_type": "code",
   "execution_count": null,
   "id": "cf8fe78f",
   "metadata": {},
   "outputs": [],
   "source": [
    "data_E['event_time']=pd.to_datetime(data_E['event_time'])"
   ]
  },
  {
   "cell_type": "code",
   "execution_count": null,
   "id": "53463b88",
   "metadata": {},
   "outputs": [],
   "source": [
    "data_E"
   ]
  },
  {
   "cell_type": "code",
   "execution_count": null,
   "id": "370dd30b",
   "metadata": {},
   "outputs": [],
   "source": [
    "data_E.dropna(subset=['category_code'],inplace=True)"
   ]
  },
  {
   "cell_type": "code",
   "execution_count": null,
   "id": "3cb3afc2",
   "metadata": {},
   "outputs": [],
   "source": [
    "data_E"
   ]
  },
  {
   "cell_type": "code",
   "execution_count": null,
   "id": "5fa29943",
   "metadata": {},
   "outputs": [],
   "source": []
  },
  {
   "cell_type": "code",
   "execution_count": null,
   "id": "40d931a9",
   "metadata": {},
   "outputs": [],
   "source": [
    "data_E['category'] = data_E['category_code'].str.rsplit('.', n=1, expand=True)[1]\n",
    "data_E.drop(columns=['category_code'], inplace=True)"
   ]
  },
  {
   "cell_type": "code",
   "execution_count": null,
   "id": "0f00ff0d",
   "metadata": {},
   "outputs": [],
   "source": [
    "data_E"
   ]
  },
  {
   "cell_type": "code",
   "execution_count": null,
   "id": "1c3807c4",
   "metadata": {},
   "outputs": [],
   "source": [
    "best_performing_brands = data_E.groupby('brand')['price'].sum().reset_index().sort_values('price', ascending=False).head(10)"
   ]
  },
  {
   "cell_type": "code",
   "execution_count": null,
   "id": "fbef4c4a",
   "metadata": {},
   "outputs": [],
   "source": [
    "best_performing_brands['price'] = best_performing_brands['price']/best_performing_brands['price'].max()\n"
   ]
  },
  {
   "cell_type": "code",
   "execution_count": null,
   "id": "12456ac3",
   "metadata": {},
   "outputs": [],
   "source": [
    "best_performing_brands"
   ]
  },
  {
   "cell_type": "code",
   "execution_count": null,
   "id": "13423d07",
   "metadata": {
    "scrolled": false
   },
   "outputs": [],
   "source": [
    "fig = px.bar(\n",
    "    best_performing_brands,\n",
    "    x='brand', \n",
    "    y='price', \n",
    "    title='Best performing brands',\n",
    "    width=800, \n",
    "    height=800\n",
    ")\n",
    "\n"
   ]
  },
  {
   "cell_type": "code",
   "execution_count": null,
   "id": "39f56c6c",
   "metadata": {},
   "outputs": [],
   "source": [
    "fig.show()"
   ]
  },
  {
   "cell_type": "code",
   "execution_count": null,
   "id": "c3edb830",
   "metadata": {},
   "outputs": [],
   "source": [
    "most_sold_brands = data_E.groupby('brand')['price'].agg('count').reset_index().sort_values('price', ascending=False).head(10)\n",
    "most_sold_brands.rename(columns={\"brand\": \"brand\", \"price\": \"times_sold\"}, inplace=True)"
   ]
  },
  {
   "cell_type": "code",
   "execution_count": null,
   "id": "dbcc8dc5",
   "metadata": {},
   "outputs": [],
   "source": [
    "fig = px.bar(\n",
    "    most_sold_brands, \n",
    "    x='brand', \n",
    "    y='times_sold', \n",
    "    title='Most sold brands',\n",
    "    width=800, \n",
    "    height=800\n",
    ")\n",
    "\n",
    "fig.show()"
   ]
  },
  {
   "cell_type": "code",
   "execution_count": null,
   "id": "085f1b2d",
   "metadata": {},
   "outputs": [],
   "source": [
    "best_time = data_E.groupby(data_E['event_time'].dt.strftime('%r'))['price'].sum().sort_values()[lambda x: x<= 900000].tail(10)"
   ]
  },
  {
   "cell_type": "code",
   "execution_count": null,
   "id": "254dbf58",
   "metadata": {},
   "outputs": [],
   "source": [
    "fig = px.bar(\n",
    "    best_time,\n",
    "    x=\"price\", \n",
    "    orientation='h', \n",
    "    title=\"At what time most of the purchases were made\", \n",
    "    width=800, \n",
    "    height=800\n",
    ")\n",
    "\n",
    "fig.show()"
   ]
  },
  {
   "cell_type": "code",
   "execution_count": null,
   "id": "9c4a6f03",
   "metadata": {},
   "outputs": [],
   "source": [
    "best_month = data_E.groupby(data_E['event_time'].dt.strftime('%B'))['price'].sum().sort_values()"
   ]
  },
  {
   "cell_type": "code",
   "execution_count": null,
   "id": "19f3b44a",
   "metadata": {},
   "outputs": [],
   "source": [
    "fig = px.bar(\n",
    "    best_month,\n",
    "    x=\"price\", \n",
    "    orientation='h', \n",
    "    title=\"In which months most of the purchases were made\", \n",
    "    width=800, \n",
    "    height=800\n",
    ")\n",
    "\n",
    "fig.show()"
   ]
  },
  {
   "cell_type": "code",
   "execution_count": null,
   "id": "9fbdd10a",
   "metadata": {},
   "outputs": [],
   "source": [
    "# How much money spent 20% of top buyers in comparison with other 80% of clients\n",
    "most_active_users = data_E.groupby('user_id')['price'].sum().reset_index().sort_values('price', ascending=False).head(round((data_E['user_id'].nunique())*0.2))\n",
    "least_active_users = data_E.groupby('user_id')['price'].sum().reset_index().sort_values('price', ascending=False).tail(round((data_E['user_id'].nunique())*0.8))\n",
    "top_20_percent_buyers = most_active_users['price'].sum()\n",
    "bottom_80_percent_buyers = least_active_users['price'].sum()\n",
    "last_data = pd.DataFrame(data={'most_active': [most_active_users['price'].sum()], 'least_active': [least_active_users['price'].sum()]})"
   ]
  },
  {
   "cell_type": "code",
   "execution_count": null,
   "id": "3511d266",
   "metadata": {},
   "outputs": [],
   "source": [
    "fig = px.bar(\n",
    "    last_data,  \n",
    "    title=\"20% of most active in comparison with other 80% of buyers\", \n",
    "    width=800, \n",
    "    height=800\n",
    ")\n",
    "\n",
    "fig.show()"
   ]
  },
  {
   "cell_type": "code",
   "execution_count": null,
   "id": "54a5824e",
   "metadata": {},
   "outputs": [],
   "source": []
  }
 ],
 "metadata": {
  "kernelspec": {
   "display_name": "Python 3 (ipykernel)",
   "language": "python",
   "name": "python3"
  },
  "language_info": {
   "codemirror_mode": {
    "name": "ipython",
    "version": 3
   },
   "file_extension": ".py",
   "mimetype": "text/x-python",
   "name": "python",
   "nbconvert_exporter": "python",
   "pygments_lexer": "ipython3",
   "version": "3.9.12"
  }
 },
 "nbformat": 4,
 "nbformat_minor": 5
}
